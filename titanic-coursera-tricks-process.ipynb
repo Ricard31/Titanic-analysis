{
 "cells": [
  {
   "cell_type": "code",
   "execution_count": 1,
   "metadata": {
    "_cell_guid": "b1076dfc-b9ad-4769-8c92-a6c4dae69d19",
    "_uuid": "8f2839f25d086af736a60e9eeb907d3b93b6e0e5"
   },
   "outputs": [
    {
     "name": "stdout",
     "output_type": "stream",
     "text": [
      "['test.csv', 'train.csv', 'gender_submission.csv']\n"
     ]
    }
   ],
   "source": [
    "import numpy as np # linear algebra\n",
    "import pandas as pd # data processing, CSV file I/O (e.g. pd.read_csv)\n",
    "\n",
    "import os\n",
    "print(os.listdir(\"../input\"))\n",
    "\n",
    "from sklearn import preprocessing\n",
    "import xgboost as xgb\n",
    "\n",
    "from sklearn.ensemble import RandomForestClassifier\n",
    "from sklearn.model_selection import train_test_split\n",
    "from sklearn import metrics\n",
    "\n",
    "import matplotlib.pyplot as plt\n",
    "import seaborn as sns\n",
    "sns.set() # use Seaborn styles\n",
    "sns.color_palette(\"Blues\")\n",
    "\n",
    "plt.style.use('fivethirtyeight')\n",
    "\n",
    "from sklearn.metrics import accuracy_score\n",
    "\n",
    "\n",
    "import warnings; warnings.simplefilter('ignore')\n"
   ]
  },
  {
   "cell_type": "code",
   "execution_count": 2,
   "metadata": {},
   "outputs": [],
   "source": [
    "train = pd.read_csv('../input/train.csv', index_col='PassengerId')\n",
    "test = pd.read_csv('../input/test.csv', index_col='PassengerId')\n",
    "sample_submission = pd.read_csv('../input/gender_submission.csv', index_col='PassengerId')"
   ]
  },
  {
   "cell_type": "code",
   "execution_count": 3,
   "metadata": {},
   "outputs": [
    {
     "name": "stdout",
     "output_type": "stream",
     "text": [
      "The train data has the following dimensions: (891, 11)\n",
      "Meanwhile, the test data has the following dimensions: (418, 10)\n"
     ]
    }
   ],
   "source": [
    "print('The train data has the following dimensions: {}'.format(train.shape))\n",
    "\n",
    "print('Meanwhile, the test data has the following dimensions: {}'.format(test.shape))"
   ]
  },
  {
   "cell_type": "markdown",
   "metadata": {},
   "source": [
    "# EDA\n",
    "\n",
    "Allows to understand the data better. This helps building an intuition about the data which will eventually help to create new features, new hypothesis and obtain a better score.\n",
    "\n",
    "Visualization plays an important role in this process."
   ]
  },
  {
   "cell_type": "code",
   "execution_count": 4,
   "metadata": {},
   "outputs": [
    {
     "data": {
      "text/html": [
       "<div>\n",
       "<style scoped>\n",
       "    .dataframe tbody tr th:only-of-type {\n",
       "        vertical-align: middle;\n",
       "    }\n",
       "\n",
       "    .dataframe tbody tr th {\n",
       "        vertical-align: top;\n",
       "    }\n",
       "\n",
       "    .dataframe thead th {\n",
       "        text-align: right;\n",
       "    }\n",
       "</style>\n",
       "<table border=\"1\" class=\"dataframe\">\n",
       "  <thead>\n",
       "    <tr style=\"text-align: right;\">\n",
       "      <th></th>\n",
       "      <th>Survived</th>\n",
       "      <th>Pclass</th>\n",
       "      <th>Name</th>\n",
       "      <th>Sex</th>\n",
       "      <th>Age</th>\n",
       "      <th>SibSp</th>\n",
       "      <th>Parch</th>\n",
       "      <th>Ticket</th>\n",
       "      <th>Fare</th>\n",
       "      <th>Cabin</th>\n",
       "      <th>Embarked</th>\n",
       "    </tr>\n",
       "    <tr>\n",
       "      <th>PassengerId</th>\n",
       "      <th></th>\n",
       "      <th></th>\n",
       "      <th></th>\n",
       "      <th></th>\n",
       "      <th></th>\n",
       "      <th></th>\n",
       "      <th></th>\n",
       "      <th></th>\n",
       "      <th></th>\n",
       "      <th></th>\n",
       "      <th></th>\n",
       "    </tr>\n",
       "  </thead>\n",
       "  <tbody>\n",
       "    <tr>\n",
       "      <th>40</th>\n",
       "      <td>1</td>\n",
       "      <td>3</td>\n",
       "      <td>Nicola-Yarred, Miss. Jamila</td>\n",
       "      <td>female</td>\n",
       "      <td>14.0</td>\n",
       "      <td>1</td>\n",
       "      <td>0</td>\n",
       "      <td>2651</td>\n",
       "      <td>11.2417</td>\n",
       "      <td>NaN</td>\n",
       "      <td>C</td>\n",
       "    </tr>\n",
       "    <tr>\n",
       "      <th>380</th>\n",
       "      <td>0</td>\n",
       "      <td>3</td>\n",
       "      <td>Gustafsson, Mr. Karl Gideon</td>\n",
       "      <td>male</td>\n",
       "      <td>19.0</td>\n",
       "      <td>0</td>\n",
       "      <td>0</td>\n",
       "      <td>347069</td>\n",
       "      <td>7.7750</td>\n",
       "      <td>NaN</td>\n",
       "      <td>S</td>\n",
       "    </tr>\n",
       "    <tr>\n",
       "      <th>20</th>\n",
       "      <td>1</td>\n",
       "      <td>3</td>\n",
       "      <td>Masselmani, Mrs. Fatima</td>\n",
       "      <td>female</td>\n",
       "      <td>NaN</td>\n",
       "      <td>0</td>\n",
       "      <td>0</td>\n",
       "      <td>2649</td>\n",
       "      <td>7.2250</td>\n",
       "      <td>NaN</td>\n",
       "      <td>C</td>\n",
       "    </tr>\n",
       "    <tr>\n",
       "      <th>448</th>\n",
       "      <td>1</td>\n",
       "      <td>1</td>\n",
       "      <td>Seward, Mr. Frederic Kimber</td>\n",
       "      <td>male</td>\n",
       "      <td>34.0</td>\n",
       "      <td>0</td>\n",
       "      <td>0</td>\n",
       "      <td>113794</td>\n",
       "      <td>26.5500</td>\n",
       "      <td>NaN</td>\n",
       "      <td>S</td>\n",
       "    </tr>\n",
       "    <tr>\n",
       "      <th>176</th>\n",
       "      <td>0</td>\n",
       "      <td>3</td>\n",
       "      <td>Klasen, Mr. Klas Albin</td>\n",
       "      <td>male</td>\n",
       "      <td>18.0</td>\n",
       "      <td>1</td>\n",
       "      <td>1</td>\n",
       "      <td>350404</td>\n",
       "      <td>7.8542</td>\n",
       "      <td>NaN</td>\n",
       "      <td>S</td>\n",
       "    </tr>\n",
       "  </tbody>\n",
       "</table>\n",
       "</div>"
      ],
      "text/plain": [
       "             Survived  Pclass                         Name     Sex   Age  \\\n",
       "PassengerId                                                                \n",
       "40                  1       3  Nicola-Yarred, Miss. Jamila  female  14.0   \n",
       "380                 0       3  Gustafsson, Mr. Karl Gideon    male  19.0   \n",
       "20                  1       3      Masselmani, Mrs. Fatima  female   NaN   \n",
       "448                 1       1  Seward, Mr. Frederic Kimber    male  34.0   \n",
       "176                 0       3       Klasen, Mr. Klas Albin    male  18.0   \n",
       "\n",
       "             SibSp  Parch  Ticket     Fare Cabin Embarked  \n",
       "PassengerId                                                \n",
       "40               1      0    2651  11.2417   NaN        C  \n",
       "380              0      0  347069   7.7750   NaN        S  \n",
       "20               0      0    2649   7.2250   NaN        C  \n",
       "448              0      0  113794  26.5500   NaN        S  \n",
       "176              1      1  350404   7.8542   NaN        S  "
      ]
     },
     "execution_count": 4,
     "metadata": {},
     "output_type": "execute_result"
    }
   ],
   "source": [
    "train.sample(5)"
   ]
  },
  {
   "cell_type": "code",
   "execution_count": 5,
   "metadata": {},
   "outputs": [
    {
     "data": {
      "text/html": [
       "<div>\n",
       "<style scoped>\n",
       "    .dataframe tbody tr th:only-of-type {\n",
       "        vertical-align: middle;\n",
       "    }\n",
       "\n",
       "    .dataframe tbody tr th {\n",
       "        vertical-align: top;\n",
       "    }\n",
       "\n",
       "    .dataframe thead th {\n",
       "        text-align: right;\n",
       "    }\n",
       "</style>\n",
       "<table border=\"1\" class=\"dataframe\">\n",
       "  <thead>\n",
       "    <tr style=\"text-align: right;\">\n",
       "      <th></th>\n",
       "      <th>Pclass</th>\n",
       "      <th>Name</th>\n",
       "      <th>Sex</th>\n",
       "      <th>Age</th>\n",
       "      <th>SibSp</th>\n",
       "      <th>Parch</th>\n",
       "      <th>Ticket</th>\n",
       "      <th>Fare</th>\n",
       "      <th>Cabin</th>\n",
       "      <th>Embarked</th>\n",
       "    </tr>\n",
       "    <tr>\n",
       "      <th>PassengerId</th>\n",
       "      <th></th>\n",
       "      <th></th>\n",
       "      <th></th>\n",
       "      <th></th>\n",
       "      <th></th>\n",
       "      <th></th>\n",
       "      <th></th>\n",
       "      <th></th>\n",
       "      <th></th>\n",
       "      <th></th>\n",
       "    </tr>\n",
       "  </thead>\n",
       "  <tbody>\n",
       "    <tr>\n",
       "      <th>1210</th>\n",
       "      <td>3</td>\n",
       "      <td>Jonsson, Mr. Nils Hilding</td>\n",
       "      <td>male</td>\n",
       "      <td>27.0</td>\n",
       "      <td>0</td>\n",
       "      <td>0</td>\n",
       "      <td>350408</td>\n",
       "      <td>7.8542</td>\n",
       "      <td>NaN</td>\n",
       "      <td>S</td>\n",
       "    </tr>\n",
       "    <tr>\n",
       "      <th>1255</th>\n",
       "      <td>3</td>\n",
       "      <td>Strilic, Mr. Ivan</td>\n",
       "      <td>male</td>\n",
       "      <td>27.0</td>\n",
       "      <td>0</td>\n",
       "      <td>0</td>\n",
       "      <td>315083</td>\n",
       "      <td>8.6625</td>\n",
       "      <td>NaN</td>\n",
       "      <td>S</td>\n",
       "    </tr>\n",
       "    <tr>\n",
       "      <th>1183</th>\n",
       "      <td>3</td>\n",
       "      <td>Daly, Miss. Margaret Marcella Maggie\"\"</td>\n",
       "      <td>female</td>\n",
       "      <td>30.0</td>\n",
       "      <td>0</td>\n",
       "      <td>0</td>\n",
       "      <td>382650</td>\n",
       "      <td>6.9500</td>\n",
       "      <td>NaN</td>\n",
       "      <td>Q</td>\n",
       "    </tr>\n",
       "    <tr>\n",
       "      <th>1098</th>\n",
       "      <td>3</td>\n",
       "      <td>McGowan, Miss. Katherine</td>\n",
       "      <td>female</td>\n",
       "      <td>35.0</td>\n",
       "      <td>0</td>\n",
       "      <td>0</td>\n",
       "      <td>9232</td>\n",
       "      <td>7.7500</td>\n",
       "      <td>NaN</td>\n",
       "      <td>Q</td>\n",
       "    </tr>\n",
       "    <tr>\n",
       "      <th>1289</th>\n",
       "      <td>1</td>\n",
       "      <td>Frolicher-Stehli, Mrs. Maxmillian (Margaretha ...</td>\n",
       "      <td>female</td>\n",
       "      <td>48.0</td>\n",
       "      <td>1</td>\n",
       "      <td>1</td>\n",
       "      <td>13567</td>\n",
       "      <td>79.2000</td>\n",
       "      <td>B41</td>\n",
       "      <td>C</td>\n",
       "    </tr>\n",
       "  </tbody>\n",
       "</table>\n",
       "</div>"
      ],
      "text/plain": [
       "             Pclass                                               Name  \\\n",
       "PassengerId                                                              \n",
       "1210              3                          Jonsson, Mr. Nils Hilding   \n",
       "1255              3                                  Strilic, Mr. Ivan   \n",
       "1183              3             Daly, Miss. Margaret Marcella Maggie\"\"   \n",
       "1098              3                           McGowan, Miss. Katherine   \n",
       "1289              1  Frolicher-Stehli, Mrs. Maxmillian (Margaretha ...   \n",
       "\n",
       "                Sex   Age  SibSp  Parch  Ticket     Fare Cabin Embarked  \n",
       "PassengerId                                                              \n",
       "1210           male  27.0      0      0  350408   7.8542   NaN        S  \n",
       "1255           male  27.0      0      0  315083   8.6625   NaN        S  \n",
       "1183         female  30.0      0      0  382650   6.9500   NaN        Q  \n",
       "1098         female  35.0      0      0    9232   7.7500   NaN        Q  \n",
       "1289         female  48.0      1      1   13567  79.2000   B41        C  "
      ]
     },
     "execution_count": 5,
     "metadata": {},
     "output_type": "execute_result"
    }
   ],
   "source": [
    "test.sample(5)"
   ]
  },
  {
   "cell_type": "markdown",
   "metadata": {},
   "source": [
    "# EDA. Comparing train-test sets"
   ]
  },
  {
   "cell_type": "code",
   "execution_count": 6,
   "metadata": {},
   "outputs": [],
   "source": [
    "def categorical_train_test(variable):\n",
    "    fig, ax = plt.subplots(figsize=(8,3.5),ncols=2)\n",
    "    ax1 = sns.countplot(x=variable, data=train, ax = ax[0],\n",
    "                       order = train[variable].value_counts().index);\n",
    "    ax2 = sns.countplot(x=variable, data=test, ax = ax[1],\n",
    "                       order = test[variable].value_counts().index);\n",
    "    ax1.set_title(\"Training Set\", fontsize = 18)\n",
    "    ax2.set_title('Test Set',  fontsize = 18)\n",
    "    fig.show()"
   ]
  },
  {
   "cell_type": "code",
   "execution_count": 7,
   "metadata": {},
   "outputs": [
    {
     "data": {
      "image/png": "[encoded data removed]",
      "text/plain": [
       "<Figure size 576x252 with 2 Axes>"
      ]
     },
     "metadata": {
      "needs_background": "light"
     },
     "output_type": "display_data"
    }
   ],
   "source": [
    "categorical_train_test('Sex')"
   ]
  },
  {
   "cell_type": "code",
   "execution_count": 8,
   "metadata": {},
   "outputs": [
    {
     "data": {
      "image/png": "[encoded data removed]",
      "text/plain": [
       "<Figure size 576x252 with 2 Axes>"
      ]
     },
     "metadata": {
      "needs_background": "light"
     },
     "output_type": "display_data"
    }
   ],
   "source": [
    "categorical_train_test('Embarked')"
   ]
  },
  {
   "cell_type": "code",
   "execution_count": 9,
   "metadata": {},
   "outputs": [
    {
     "data": {
      "image/png": "[encoded data removed]",
      "text/plain": [
       "<Figure size 576x252 with 2 Axes>"
      ]
     },
     "metadata": {
      "needs_background": "light"
     },
     "output_type": "display_data"
    }
   ],
   "source": [
    "categorical_train_test('Pclass')"
   ]
  },
  {
   "cell_type": "code",
   "execution_count": 10,
   "metadata": {},
   "outputs": [
    {
     "data": {
      "image/png": "[encoded data removed]",
      "text/plain": [
       "<Figure size 576x252 with 2 Axes>"
      ]
     },
     "metadata": {
      "needs_background": "light"
     },
     "output_type": "display_data"
    }
   ],
   "source": [
    "categorical_train_test('SibSp')"
   ]
  },
  {
   "cell_type": "code",
   "execution_count": 11,
   "metadata": {},
   "outputs": [
    {
     "data": {
      "image/png": "[encoded data removed]",
      "text/plain": [
       "<Figure size 576x252 with 2 Axes>"
      ]
     },
     "metadata": {
      "needs_background": "light"
     },
     "output_type": "display_data"
    }
   ],
   "source": [
    "categorical_train_test('Parch')"
   ]
  },
  {
   "cell_type": "code",
   "execution_count": 12,
   "metadata": {},
   "outputs": [],
   "source": [
    "def continuous_train_test(variable):\n",
    "    fig, ax = plt.subplots(figsize=(13,3.5))\n",
    "\n",
    "    sns.distplot(train[variable].dropna(),hist_kws=dict(alpha=0.3), label = 'train')\n",
    "    sns.distplot(test[variable].dropna(),hist_kws=dict(alpha=0.3), label = 'test')\n",
    "\n",
    "    plt.legend()\n",
    "    fig.show()"
   ]
  },
  {
   "cell_type": "code",
   "execution_count": 13,
   "metadata": {},
   "outputs": [
    {
     "data": {
      "image/png": "[encoded data removed]",
      "text/plain": [
       "<Figure size 936x252 with 1 Axes>"
      ]
     },
     "metadata": {
      "needs_background": "light"
     },
     "output_type": "display_data"
    }
   ],
   "source": [
    "continuous_train_test('Fare')"
   ]
  },
  {
   "cell_type": "code",
   "execution_count": 14,
   "metadata": {},
   "outputs": [
    {
     "data": {
      "image/png": "[encoded data removed]",
      "text/plain": [
       "<Figure size 936x252 with 1 Axes>"
      ]
     },
     "metadata": {
      "needs_background": "light"
     },
     "output_type": "display_data"
    }
   ],
   "source": [
    "continuous_train_test('Age')"
   ]
  },
  {
   "cell_type": "markdown",
   "metadata": {},
   "source": [
    "# Building intuition about the data\n",
    "-Get some domain knowledge to understan the problem in a deeper way that could help to create some insights.  \n",
    "\n",
    "-Check if the data is intuitive and agrees with our domain knowledge. Otherwise, modify it.  \n",
    "\n",
    "-**Understand how data was generated.** This can be useful to determine if the validations process is good (check if the train and test set were generated in the same way)."
   ]
  },
  {
   "cell_type": "markdown",
   "metadata": {},
   "source": [
    "# Creating new variables\n",
    "\n",
    "Recommended to do it before the NAs are imputed."
   ]
  },
  {
   "cell_type": "markdown",
   "metadata": {},
   "source": [
    "First, star by concating train and test. Then, create new variables. Finally, split again the datasets."
   ]
  },
  {
   "cell_type": "code",
   "execution_count": 15,
   "metadata": {
    "_cell_guid": "79c7e3d0-c299-4dcb-8224-4455121ee9b0",
    "_uuid": "d629ff2d2480ee46fbb7e2d37f6b5fab8052498a"
   },
   "outputs": [],
   "source": [
    "# concat train - test\n",
    "df = pd.concat([test, train])\n",
    "traindex = train.index\n",
    "testdex = test.index\n"
   ]
  },
  {
   "cell_type": "code",
   "execution_count": 16,
   "metadata": {},
   "outputs": [],
   "source": [
    "# Create new feature FamilySize as a combination of SibSp and Parch\n",
    "df['FamilySize'] = df['SibSp'] + df['Parch'] + 1\n",
    "\n",
    "# variable IsAlone: 1 if a passenger has no family aboard, 0 otherwise.\n",
    "df['IsAlone'] = 0\n",
    "df.loc[df['FamilySize'] == 1, 'IsAlone']  = 1"
   ]
  },
  {
   "cell_type": "code",
   "execution_count": 17,
   "metadata": {},
   "outputs": [],
   "source": [
    "# Length of the ticket\n",
    "df['Ticket_Len'] = df['Ticket'].apply(lambda x: len(x))\n",
    "\n",
    "# First character of the ticket code\n",
    "df['Ticket_first'] = df['Ticket'].apply(lambda x: str(x)[0])"
   ]
  },
  {
   "cell_type": "code",
   "execution_count": 18,
   "metadata": {},
   "outputs": [],
   "source": [
    "# Length of the name of a passenger\n",
    "df['Name_Len'] = df['Name'].apply(lambda x: len(x))\n",
    "\n",
    "# Title of a person\n",
    "df['Title']=0\n",
    "df['Title']=df.Name.str.extract('([A-Za-z]+)\\.') "
   ]
  },
  {
   "cell_type": "code",
   "execution_count": 19,
   "metadata": {},
   "outputs": [],
   "source": [
    "# First character of the cabin code: the ones with n are the NA values\n",
    "df['Cabin_first'] = df['Cabin'].apply(lambda x: str(x)[0])"
   ]
  },
  {
   "cell_type": "code",
   "execution_count": 20,
   "metadata": {},
   "outputs": [],
   "source": [
    "#\n",
    "df['Pclass_Sex'] = df['Pclass'].apply(lambda x: str(x)[0]) + df['Sex']"
   ]
  },
  {
   "cell_type": "code",
   "execution_count": 21,
   "metadata": {},
   "outputs": [],
   "source": [
    "df['Cabin_is_null'] = 0\n",
    "df.loc[df['Cabin'].isnull()== True, 'Cabin_is_null']  = 1"
   ]
  },
  {
   "cell_type": "code",
   "execution_count": 22,
   "metadata": {},
   "outputs": [
    {
     "name": "stdout",
     "output_type": "stream",
     "text": [
      "The train data has the following dimensions: (891, 20)\n",
      "Meanwhile, the test data has the following dimensions: (418, 19)\n"
     ]
    }
   ],
   "source": [
    "# Now that pre-processing is complete, split data into train/test again.\n",
    "train = df.loc[traindex, :]\n",
    "train['Survived'] = train['Survived'].apply(lambda x: int(x))\n",
    "\n",
    "test = df.loc[testdex, :].drop('Survived', axis = 1)\n",
    "\n",
    "print('The train data has the following dimensions: {}'.format(train.shape))\n",
    "\n",
    "print('Meanwhile, the test data has the following dimensions: {}'.format(test.shape))"
   ]
  },
  {
   "cell_type": "code",
   "execution_count": 23,
   "metadata": {},
   "outputs": [
    {
     "data": {
      "text/html": [
       "<div>\n",
       "<style scoped>\n",
       "    .dataframe tbody tr th:only-of-type {\n",
       "        vertical-align: middle;\n",
       "    }\n",
       "\n",
       "    .dataframe tbody tr th {\n",
       "        vertical-align: top;\n",
       "    }\n",
       "\n",
       "    .dataframe thead th {\n",
       "        text-align: right;\n",
       "    }\n",
       "</style>\n",
       "<table border=\"1\" class=\"dataframe\">\n",
       "  <thead>\n",
       "    <tr style=\"text-align: right;\">\n",
       "      <th></th>\n",
       "      <th>Age</th>\n",
       "      <th>Cabin</th>\n",
       "      <th>Embarked</th>\n",
       "      <th>Fare</th>\n",
       "      <th>Name</th>\n",
       "      <th>Parch</th>\n",
       "      <th>Pclass</th>\n",
       "      <th>Sex</th>\n",
       "      <th>SibSp</th>\n",
       "      <th>Survived</th>\n",
       "      <th>Ticket</th>\n",
       "      <th>FamilySize</th>\n",
       "      <th>IsAlone</th>\n",
       "      <th>Ticket_Len</th>\n",
       "      <th>Ticket_first</th>\n",
       "      <th>Name_Len</th>\n",
       "      <th>Title</th>\n",
       "      <th>Cabin_first</th>\n",
       "      <th>Pclass_Sex</th>\n",
       "      <th>Cabin_is_null</th>\n",
       "    </tr>\n",
       "    <tr>\n",
       "      <th>PassengerId</th>\n",
       "      <th></th>\n",
       "      <th></th>\n",
       "      <th></th>\n",
       "      <th></th>\n",
       "      <th></th>\n",
       "      <th></th>\n",
       "      <th></th>\n",
       "      <th></th>\n",
       "      <th></th>\n",
       "      <th></th>\n",
       "      <th></th>\n",
       "      <th></th>\n",
       "      <th></th>\n",
       "      <th></th>\n",
       "      <th></th>\n",
       "      <th></th>\n",
       "      <th></th>\n",
       "      <th></th>\n",
       "      <th></th>\n",
       "      <th></th>\n",
       "    </tr>\n",
       "  </thead>\n",
       "  <tbody>\n",
       "    <tr>\n",
       "      <th>110</th>\n",
       "      <td>NaN</td>\n",
       "      <td>NaN</td>\n",
       "      <td>Q</td>\n",
       "      <td>24.150</td>\n",
       "      <td>Moran, Miss. Bertha</td>\n",
       "      <td>0</td>\n",
       "      <td>3</td>\n",
       "      <td>female</td>\n",
       "      <td>1</td>\n",
       "      <td>1</td>\n",
       "      <td>371110</td>\n",
       "      <td>2</td>\n",
       "      <td>0</td>\n",
       "      <td>6</td>\n",
       "      <td>3</td>\n",
       "      <td>19</td>\n",
       "      <td>Miss</td>\n",
       "      <td>n</td>\n",
       "      <td>3female</td>\n",
       "      <td>1</td>\n",
       "    </tr>\n",
       "    <tr>\n",
       "      <th>233</th>\n",
       "      <td>59.0</td>\n",
       "      <td>NaN</td>\n",
       "      <td>S</td>\n",
       "      <td>13.500</td>\n",
       "      <td>Sjostedt, Mr. Ernst Adolf</td>\n",
       "      <td>0</td>\n",
       "      <td>2</td>\n",
       "      <td>male</td>\n",
       "      <td>0</td>\n",
       "      <td>0</td>\n",
       "      <td>237442</td>\n",
       "      <td>1</td>\n",
       "      <td>1</td>\n",
       "      <td>6</td>\n",
       "      <td>2</td>\n",
       "      <td>25</td>\n",
       "      <td>Mr</td>\n",
       "      <td>n</td>\n",
       "      <td>2male</td>\n",
       "      <td>1</td>\n",
       "    </tr>\n",
       "    <tr>\n",
       "      <th>148</th>\n",
       "      <td>9.0</td>\n",
       "      <td>NaN</td>\n",
       "      <td>S</td>\n",
       "      <td>34.375</td>\n",
       "      <td>Ford, Miss. Robina Maggie \"Ruby\"</td>\n",
       "      <td>2</td>\n",
       "      <td>3</td>\n",
       "      <td>female</td>\n",
       "      <td>2</td>\n",
       "      <td>0</td>\n",
       "      <td>W./C. 6608</td>\n",
       "      <td>5</td>\n",
       "      <td>0</td>\n",
       "      <td>10</td>\n",
       "      <td>W</td>\n",
       "      <td>32</td>\n",
       "      <td>Miss</td>\n",
       "      <td>n</td>\n",
       "      <td>3female</td>\n",
       "      <td>1</td>\n",
       "    </tr>\n",
       "    <tr>\n",
       "      <th>63</th>\n",
       "      <td>45.0</td>\n",
       "      <td>C83</td>\n",
       "      <td>S</td>\n",
       "      <td>83.475</td>\n",
       "      <td>Harris, Mr. Henry Birkhardt</td>\n",
       "      <td>0</td>\n",
       "      <td>1</td>\n",
       "      <td>male</td>\n",
       "      <td>1</td>\n",
       "      <td>0</td>\n",
       "      <td>36973</td>\n",
       "      <td>2</td>\n",
       "      <td>0</td>\n",
       "      <td>5</td>\n",
       "      <td>3</td>\n",
       "      <td>27</td>\n",
       "      <td>Mr</td>\n",
       "      <td>C</td>\n",
       "      <td>1male</td>\n",
       "      <td>0</td>\n",
       "    </tr>\n",
       "    <tr>\n",
       "      <th>747</th>\n",
       "      <td>16.0</td>\n",
       "      <td>NaN</td>\n",
       "      <td>S</td>\n",
       "      <td>20.250</td>\n",
       "      <td>Abbott, Mr. Rossmore Edward</td>\n",
       "      <td>1</td>\n",
       "      <td>3</td>\n",
       "      <td>male</td>\n",
       "      <td>1</td>\n",
       "      <td>0</td>\n",
       "      <td>C.A. 2673</td>\n",
       "      <td>3</td>\n",
       "      <td>0</td>\n",
       "      <td>9</td>\n",
       "      <td>C</td>\n",
       "      <td>27</td>\n",
       "      <td>Mr</td>\n",
       "      <td>n</td>\n",
       "      <td>3male</td>\n",
       "      <td>1</td>\n",
       "    </tr>\n",
       "  </tbody>\n",
       "</table>\n",
       "</div>"
      ],
      "text/plain": [
       "              Age Cabin Embarked    Fare                              Name  \\\n",
       "PassengerId                                                                  \n",
       "110           NaN   NaN        Q  24.150               Moran, Miss. Bertha   \n",
       "233          59.0   NaN        S  13.500         Sjostedt, Mr. Ernst Adolf   \n",
       "148           9.0   NaN        S  34.375  Ford, Miss. Robina Maggie \"Ruby\"   \n",
       "63           45.0   C83        S  83.475       Harris, Mr. Henry Birkhardt   \n",
       "747          16.0   NaN        S  20.250       Abbott, Mr. Rossmore Edward   \n",
       "\n",
       "             Parch  Pclass     Sex  SibSp  Survived      Ticket  FamilySize  \\\n",
       "PassengerId                                                                   \n",
       "110              0       3  female      1         1      371110           2   \n",
       "233              0       2    male      0         0      237442           1   \n",
       "148              2       3  female      2         0  W./C. 6608           5   \n",
       "63               0       1    male      1         0       36973           2   \n",
       "747              1       3    male      1         0   C.A. 2673           3   \n",
       "\n",
       "             IsAlone  Ticket_Len Ticket_first  Name_Len Title Cabin_first  \\\n",
       "PassengerId                                                                 \n",
       "110                0           6            3        19  Miss           n   \n",
       "233                1           6            2        25    Mr           n   \n",
       "148                0          10            W        32  Miss           n   \n",
       "63                 0           5            3        27    Mr           C   \n",
       "747                0           9            C        27    Mr           n   \n",
       "\n",
       "            Pclass_Sex  Cabin_is_null  \n",
       "PassengerId                            \n",
       "110            3female              1  \n",
       "233              2male              1  \n",
       "148            3female              1  \n",
       "63               1male              0  \n",
       "747              3male              1  "
      ]
     },
     "execution_count": 23,
     "metadata": {},
     "output_type": "execute_result"
    }
   ],
   "source": [
    "train.sample(5)"
   ]
  },
  {
   "cell_type": "markdown",
   "metadata": {},
   "source": [
    "# EDA. Explore the new variables\n"
   ]
  },
  {
   "cell_type": "code",
   "execution_count": 24,
   "metadata": {},
   "outputs": [
    {
     "data": {
      "image/png": "[encoded data removed]",
      "text/plain": [
       "<Figure size 936x252 with 1 Axes>"
      ]
     },
     "metadata": {
      "needs_background": "light"
     },
     "output_type": "display_data"
    }
   ],
   "source": [
    "continuous_train_test('Ticket_Len')"
   ]
  },
  {
   "cell_type": "code",
   "execution_count": 25,
   "metadata": {},
   "outputs": [
    {
     "data": {
      "image/png": "[encoded data removed]",
      "text/plain": [
       "<Figure size 936x252 with 1 Axes>"
      ]
     },
     "metadata": {
      "needs_background": "light"
     },
     "output_type": "display_data"
    }
   ],
   "source": [
    "continuous_train_test('Name_Len')"
   ]
  },
  {
   "cell_type": "code",
   "execution_count": 26,
   "metadata": {},
   "outputs": [
    {
     "data": {
      "image/png": "[encoded data removed]",
      "text/plain": [
       "<Figure size 936x252 with 1 Axes>"
      ]
     },
     "metadata": {
      "needs_background": "light"
     },
     "output_type": "display_data"
    }
   ],
   "source": [
    "continuous_train_test('FamilySize')"
   ]
  },
  {
   "cell_type": "code",
   "execution_count": 27,
   "metadata": {},
   "outputs": [
    {
     "data": {
      "image/png": "[encoded data removed]",
      "text/plain": [
       "<Figure size 576x252 with 2 Axes>"
      ]
     },
     "metadata": {
      "needs_background": "light"
     },
     "output_type": "display_data"
    }
   ],
   "source": [
    "categorical_train_test('Pclass_Sex')"
   ]
  },
  {
   "cell_type": "code",
   "execution_count": 28,
   "metadata": {},
   "outputs": [
    {
     "data": {
      "image/png": "[encoded data removed]",
      "text/plain": [
       "<Figure size 576x252 with 2 Axes>"
      ]
     },
     "metadata": {
      "needs_background": "light"
     },
     "output_type": "display_data"
    }
   ],
   "source": [
    "categorical_train_test('IsAlone')"
   ]
  },
  {
   "cell_type": "code",
   "execution_count": 29,
   "metadata": {},
   "outputs": [
    {
     "data": {
      "image/png": "[encoded data removed]",
      "text/plain": [
       "<Figure size 576x252 with 2 Axes>"
      ]
     },
     "metadata": {
      "needs_background": "light"
     },
     "output_type": "display_data"
    }
   ],
   "source": [
    "categorical_train_test('Ticket_first')"
   ]
  },
  {
   "cell_type": "code",
   "execution_count": 30,
   "metadata": {},
   "outputs": [
    {
     "data": {
      "image/png": "[encoded data removed]",
      "text/plain": [
       "<Figure size 576x252 with 2 Axes>"
      ]
     },
     "metadata": {
      "needs_background": "light"
     },
     "output_type": "display_data"
    }
   ],
   "source": [
    "categorical_train_test('Cabin_first')"
   ]
  },
  {
   "cell_type": "code",
   "execution_count": 31,
   "metadata": {},
   "outputs": [
    {
     "data": {
      "image/png": "[encoded data removed]",
      "text/plain": [
       "<Figure size 864x252 with 2 Axes>"
      ]
     },
     "metadata": {
      "needs_background": "light"
     },
     "output_type": "display_data"
    }
   ],
   "source": [
    "    fig, ax = plt.subplots(figsize=(12,3.5),ncols=2)\n",
    "    \n",
    "    ax1 = sns.countplot(x='Title', data=train, ax = ax[0],\n",
    "                       order = train['Title'].value_counts().head(8).index);\n",
    "    ax2 = sns.countplot(x='Title', data=test, ax = ax[1],\n",
    "                       order = test['Title'].value_counts().head(8).index);\n",
    "    ax1.set_title(\"Training Set\", fontsize = 18)\n",
    "    ax2.set_title('Test Set',  fontsize = 18)\n",
    "    \n",
    "    fig.show()"
   ]
  },
  {
   "cell_type": "markdown",
   "metadata": {},
   "source": [
    "# EDA. Try to detect which variables have effects on the target"
   ]
  },
  {
   "cell_type": "code",
   "execution_count": 32,
   "metadata": {},
   "outputs": [
    {
     "name": "stdout",
     "output_type": "stream",
     "text": [
      "<class 'pandas.core.frame.DataFrame'>\n",
      "Int64Index: 891 entries, 1 to 891\n",
      "Data columns (total 20 columns):\n",
      "Age              714 non-null float64\n",
      "Cabin            204 non-null object\n",
      "Embarked         889 non-null object\n",
      "Fare             891 non-null float64\n",
      "Name             891 non-null object\n",
      "Parch            891 non-null int64\n",
      "Pclass           891 non-null int64\n",
      "Sex              891 non-null object\n",
      "SibSp            891 non-null int64\n",
      "Survived         891 non-null int64\n",
      "Ticket           891 non-null object\n",
      "FamilySize       891 non-null int64\n",
      "IsAlone          891 non-null int64\n",
      "Ticket_Len       891 non-null int64\n",
      "Ticket_first     891 non-null object\n",
      "Name_Len         891 non-null int64\n",
      "Title            891 non-null object\n",
      "Cabin_first      891 non-null object\n",
      "Pclass_Sex       891 non-null object\n",
      "Cabin_is_null    891 non-null int64\n",
      "dtypes: float64(2), int64(9), object(9)\n",
      "memory usage: 186.2+ KB\n"
     ]
    }
   ],
   "source": [
    "train.info()"
   ]
  },
  {
   "cell_type": "code",
   "execution_count": 33,
   "metadata": {},
   "outputs": [
    {
     "name": "stdout",
     "output_type": "stream",
     "text": [
      "          Mean survival  Count\n",
      "Mlle           1.000000      2\n",
      "Countess       1.000000      1\n",
      "Lady           1.000000      1\n",
      "Mme            1.000000      1\n",
      "Ms             1.000000      1\n",
      "Sir            1.000000      1\n",
      "Mrs            0.792000    125\n",
      "Miss           0.697802    182\n",
      "Master         0.575000     40\n",
      "Col            0.500000      2\n",
      "Major          0.500000      2\n",
      "Dr             0.428571      7\n",
      "Mr             0.156673    517\n",
      "Rev            0.000000      6\n",
      "Capt           0.000000      1\n",
      "Don            0.000000      1\n",
      "Jonkheer       0.000000      1\n"
     ]
    }
   ],
   "source": [
    "def create_df_variable_importance(variable):\n",
    "    if type(variable) == str:\n",
    "        dataframe = pd.DataFrame({'Mean survival': train['Survived'].groupby(train[variable]).mean(), \n",
    "                  'Count': train[variable].value_counts() }).sort_values(by=['Mean survival', 'Count'], ascending=False)\n",
    "    else: # variables cut with pd.qcut\n",
    "        dataframe = pd.DataFrame({'Mean survival': train['Survived'].groupby(variable).mean(), \n",
    "                  'Count': variable.value_counts() }).sort_values(by=['Mean survival', 'Count'], ascending=False)\n",
    "    print(dataframe)\n",
    "\n",
    "create_df_variable_importance('Title')"
   ]
  },
  {
   "cell_type": "code",
   "execution_count": 34,
   "metadata": {},
   "outputs": [
    {
     "name": "stdout",
     "output_type": "stream",
     "text": [
      "        Mean survival  Count\n",
      "female       0.742038    314\n",
      "male         0.188908    577\n"
     ]
    }
   ],
   "source": [
    "create_df_variable_importance('Sex')"
   ]
  },
  {
   "cell_type": "code",
   "execution_count": 35,
   "metadata": {},
   "outputs": [
    {
     "name": "stdout",
     "output_type": "stream",
     "text": [
      "   Mean survival  Count\n",
      "1       0.629630    216\n",
      "2       0.472826    184\n",
      "3       0.242363    491\n"
     ]
    }
   ],
   "source": [
    "create_df_variable_importance('Pclass')"
   ]
  },
  {
   "cell_type": "code",
   "execution_count": 36,
   "metadata": {},
   "outputs": [
    {
     "name": "stdout",
     "output_type": "stream",
     "text": [
      "    Mean survival  Count\n",
      "4        0.724138     29\n",
      "3        0.578431    102\n",
      "2        0.552795    161\n",
      "7        0.333333     12\n",
      "1        0.303538    537\n",
      "5        0.200000     15\n",
      "6        0.136364     22\n",
      "11       0.000000      7\n",
      "8        0.000000      6\n"
     ]
    }
   ],
   "source": [
    "create_df_variable_importance('FamilySize')"
   ]
  },
  {
   "cell_type": "code",
   "execution_count": 37,
   "metadata": {},
   "outputs": [
    {
     "name": "stdout",
     "output_type": "stream",
     "text": [
      "   Mean survival  Count\n",
      "D       0.757576     33\n",
      "E       0.750000     32\n",
      "B       0.744681     47\n",
      "F       0.615385     13\n",
      "C       0.593220     59\n",
      "G       0.500000      4\n",
      "A       0.466667     15\n",
      "n       0.299854    687\n",
      "T       0.000000      1\n"
     ]
    }
   ],
   "source": [
    "create_df_variable_importance('Cabin_first')"
   ]
  },
  {
   "cell_type": "code",
   "execution_count": 38,
   "metadata": {},
   "outputs": [
    {
     "name": "stdout",
     "output_type": "stream",
     "text": [
      "               Mean survival  Count\n",
      "(0.419, 19.0]       0.481707    164\n",
      "(31.8, 41.0]        0.437500    144\n",
      "(25.0, 31.8]        0.393701    127\n",
      "(41.0, 80.0]        0.373239    142\n",
      "(19.0, 25.0]        0.328467    137\n"
     ]
    }
   ],
   "source": [
    "create_df_variable_importance(pd.qcut(train['Age'],5))"
   ]
  },
  {
   "cell_type": "code",
   "execution_count": 39,
   "metadata": {},
   "outputs": [
    {
     "name": "stdout",
     "output_type": "stream",
     "text": [
      "   Mean survival  Count\n",
      "C       0.553571    168\n",
      "Q       0.389610     77\n",
      "S       0.336957    644\n"
     ]
    }
   ],
   "source": [
    "create_df_variable_importance('Embarked')"
   ]
  },
  {
   "cell_type": "code",
   "execution_count": 40,
   "metadata": {},
   "outputs": [
    {
     "name": "stdout",
     "output_type": "stream",
     "text": [
      "   Mean survival  Count\n",
      "0       0.666667    204\n",
      "1       0.299854    687\n"
     ]
    }
   ],
   "source": [
    "create_df_variable_importance('Cabin_is_null')"
   ]
  },
  {
   "cell_type": "code",
   "execution_count": 41,
   "metadata": {},
   "outputs": [
    {
     "data": {
      "text/html": [
       "<div>\n",
       "<style scoped>\n",
       "    .dataframe tbody tr th:only-of-type {\n",
       "        vertical-align: middle;\n",
       "    }\n",
       "\n",
       "    .dataframe tbody tr th {\n",
       "        vertical-align: top;\n",
       "    }\n",
       "\n",
       "    .dataframe thead th {\n",
       "        text-align: right;\n",
       "    }\n",
       "</style>\n",
       "<table border=\"1\" class=\"dataframe\">\n",
       "  <thead>\n",
       "    <tr style=\"text-align: right;\">\n",
       "      <th>Pclass</th>\n",
       "      <th>1</th>\n",
       "      <th>2</th>\n",
       "      <th>3</th>\n",
       "    </tr>\n",
       "    <tr>\n",
       "      <th>Sex</th>\n",
       "      <th></th>\n",
       "      <th></th>\n",
       "      <th></th>\n",
       "    </tr>\n",
       "  </thead>\n",
       "  <tbody>\n",
       "    <tr>\n",
       "      <th>female</th>\n",
       "      <td>0.968085</td>\n",
       "      <td>0.921053</td>\n",
       "      <td>0.500000</td>\n",
       "    </tr>\n",
       "    <tr>\n",
       "      <th>male</th>\n",
       "      <td>0.368852</td>\n",
       "      <td>0.157407</td>\n",
       "      <td>0.135447</td>\n",
       "    </tr>\n",
       "  </tbody>\n",
       "</table>\n",
       "</div>"
      ],
      "text/plain": [
       "Pclass         1         2         3\n",
       "Sex                                 \n",
       "female  0.968085  0.921053  0.500000\n",
       "male    0.368852  0.157407  0.135447"
      ]
     },
     "execution_count": 41,
     "metadata": {},
     "output_type": "execute_result"
    }
   ],
   "source": [
    "train.pivot_table('Survived', index='Sex', columns='Pclass')"
   ]
  },
  {
   "cell_type": "markdown",
   "metadata": {},
   "source": [
    "# NAs\n",
    "\n",
    "Not obtained from the course, but from public kernels"
   ]
  },
  {
   "cell_type": "code",
   "execution_count": 42,
   "metadata": {},
   "outputs": [],
   "source": [
    "# display the % of NA values in each variable\n",
    "def check_NA_values(df):\n",
    "    percentage = round(df.isnull().sum().sort_index()/len(df)*100,2).sort_values(ascending = False)\n",
    "    count = df.isnull().sum().sort_index().sort_values(ascending = False)\n",
    "    output = pd.concat([count, percentage], axis = 1,keys= ['Total', 'Percent'])\n",
    "    print(output)"
   ]
  },
  {
   "cell_type": "code",
   "execution_count": 43,
   "metadata": {},
   "outputs": [
    {
     "name": "stdout",
     "output_type": "stream",
     "text": [
      "               Total  Percent\n",
      "Cabin            687    77.10\n",
      "Age              177    19.87\n",
      "Embarked           2     0.22\n",
      "Ticket_first       0     0.00\n",
      "Cabin_first        0     0.00\n",
      "Cabin_is_null      0     0.00\n",
      "FamilySize         0     0.00\n",
      "Fare               0     0.00\n",
      "IsAlone            0     0.00\n",
      "Name               0     0.00\n",
      "Title              0     0.00\n",
      "Parch              0     0.00\n",
      "Pclass             0     0.00\n",
      "Pclass_Sex         0     0.00\n",
      "Sex                0     0.00\n",
      "SibSp              0     0.00\n",
      "Survived           0     0.00\n",
      "Ticket             0     0.00\n",
      "Ticket_Len         0     0.00\n",
      "Name_Len           0     0.00\n",
      "------------------------------\n",
      "               Total  Percent\n",
      "Cabin            327    78.23\n",
      "Age               86    20.57\n",
      "Fare               1     0.24\n",
      "Name               0     0.00\n",
      "Cabin_first        0     0.00\n",
      "Cabin_is_null      0     0.00\n",
      "Embarked           0     0.00\n",
      "FamilySize         0     0.00\n",
      "IsAlone            0     0.00\n",
      "Title              0     0.00\n",
      "Ticket_first       0     0.00\n",
      "Parch              0     0.00\n",
      "Pclass             0     0.00\n",
      "Pclass_Sex         0     0.00\n",
      "Sex                0     0.00\n",
      "SibSp              0     0.00\n",
      "Ticket             0     0.00\n",
      "Ticket_Len         0     0.00\n",
      "Name_Len           0     0.00\n"
     ]
    }
   ],
   "source": [
    "check_NA_values(train)\n",
    "print('-'*30)\n",
    "check_NA_values(test)"
   ]
  },
  {
   "cell_type": "markdown",
   "metadata": {},
   "source": [
    "### Embarked in train\n"
   ]
  },
  {
   "cell_type": "code",
   "execution_count": 44,
   "metadata": {},
   "outputs": [],
   "source": [
    "train.Embarked.fillna(\"C\",inplace = True)"
   ]
  },
  {
   "cell_type": "markdown",
   "metadata": {},
   "source": [
    "### Fare in test"
   ]
  },
  {
   "cell_type": "code",
   "execution_count": 45,
   "metadata": {},
   "outputs": [],
   "source": [
    "Fare_by_class = test.groupby(\"Pclass\").Fare.mean()\n",
    "test.Fare.fillna(Fare_by_class[3], inplace=True)\n",
    "del Fare_by_class"
   ]
  },
  {
   "cell_type": "markdown",
   "metadata": {},
   "source": [
    "## train-test NA imputation"
   ]
  },
  {
   "cell_type": "code",
   "execution_count": 46,
   "metadata": {},
   "outputs": [],
   "source": [
    "# concat train - test\n",
    "df = pd.concat([test, train])\n",
    "traindex = train.index\n",
    "testdex = test.index"
   ]
  },
  {
   "cell_type": "code",
   "execution_count": 47,
   "metadata": {},
   "outputs": [],
   "source": [
    "def age_imputer(i):\n",
    "    age = 0\n",
    "    if i.Pclass == 1 and i.Sex == \"female\":\n",
    "        age = 37\n",
    "    elif i.Pclass == 1 and i.Sex == \"male\":\n",
    "        age = 41\n",
    "    elif i.Pclass == 2 and i.Sex == \"female\":\n",
    "        age = 27\n",
    "    elif i.Pclass == 2 and i.Sex == \"male\":\n",
    "        age = 31\n",
    "    elif i.Pclass == 3 and i.Sex == \"female\":\n",
    "        age = 22\n",
    "    elif i.Pclass == 3 and i.Sex == \"male\":\n",
    "        age = 26\n",
    "    return age"
   ]
  },
  {
   "cell_type": "code",
   "execution_count": 48,
   "metadata": {},
   "outputs": [],
   "source": [
    "without_age = df[df.Age.isnull()]\n",
    "with_age = df[df.Age.isnull() == False]\n",
    "\n",
    "without_age['Age'] = without_age.apply(age_imputer, axis=1)\n",
    "\n",
    "## getting back train data\n",
    "df = pd.concat([with_age, without_age], axis=0)\n",
    "\n",
    "## PassengerId helps us separate train and test. \n",
    "df.sort_values(by = 'PassengerId', inplace=True)\n",
    "\n",
    "\n"
   ]
  },
  {
   "cell_type": "code",
   "execution_count": 49,
   "metadata": {},
   "outputs": [],
   "source": [
    "# drop Cabin\n",
    "df = df.drop(\"Cabin\", axis = 1)"
   ]
  },
  {
   "cell_type": "markdown",
   "metadata": {},
   "source": [
    "# Encoding\n",
    "Before separating df back into train & test, let us first encode the categorical variables."
   ]
  },
  {
   "cell_type": "code",
   "execution_count": 50,
   "metadata": {},
   "outputs": [
    {
     "name": "stdout",
     "output_type": "stream",
     "text": [
      "<class 'pandas.core.frame.DataFrame'>\n",
      "Int64Index: 1309 entries, 1 to 1309\n",
      "Data columns (total 19 columns):\n",
      "Age              1309 non-null float64\n",
      "Cabin_first      1309 non-null object\n",
      "Cabin_is_null    1309 non-null int64\n",
      "Embarked         1309 non-null object\n",
      "FamilySize       1309 non-null int64\n",
      "Fare             1309 non-null float64\n",
      "IsAlone          1309 non-null int64\n",
      "Name             1309 non-null object\n",
      "Name_Len         1309 non-null int64\n",
      "Parch            1309 non-null int64\n",
      "Pclass           1309 non-null int64\n",
      "Pclass_Sex       1309 non-null object\n",
      "Sex              1309 non-null object\n",
      "SibSp            1309 non-null int64\n",
      "Survived         891 non-null float64\n",
      "Ticket           1309 non-null object\n",
      "Ticket_Len       1309 non-null int64\n",
      "Ticket_first     1309 non-null object\n",
      "Title            1309 non-null object\n",
      "dtypes: float64(3), int64(8), object(8)\n",
      "memory usage: 204.5+ KB\n"
     ]
    }
   ],
   "source": [
    "df.info()"
   ]
  },
  {
   "cell_type": "code",
   "execution_count": 51,
   "metadata": {},
   "outputs": [
    {
     "data": {
      "text/plain": [
       "['Cabin_first',\n",
       " 'Embarked',\n",
       " 'Name',\n",
       " 'Pclass_Sex',\n",
       " 'Sex',\n",
       " 'Ticket',\n",
       " 'Ticket_first',\n",
       " 'Title']"
      ]
     },
     "execution_count": 51,
     "metadata": {},
     "output_type": "execute_result"
    }
   ],
   "source": [
    "categorical_variables = df.select_dtypes(include=['object']).columns.tolist()\n",
    "categorical_variables"
   ]
  },
  {
   "cell_type": "code",
   "execution_count": 52,
   "metadata": {},
   "outputs": [],
   "source": [
    "df = pd.get_dummies(df, columns=categorical_variables )"
   ]
  },
  {
   "cell_type": "markdown",
   "metadata": {},
   "source": [
    "# Get back train-test and check if the NAs were removed"
   ]
  },
  {
   "cell_type": "code",
   "execution_count": 53,
   "metadata": {},
   "outputs": [
    {
     "name": "stdout",
     "output_type": "stream",
     "text": [
      "The train data has the following dimensions: (891, 2301)\n",
      "Meanwhile, the test data has the following dimensions: (418, 2300)\n"
     ]
    }
   ],
   "source": [
    "# Now that pre-processing is complete, split data into train/test again.\n",
    "train = df.loc[traindex, :]\n",
    "train['Survived'] = train['Survived'].apply(lambda x: int(x))\n",
    "\n",
    "test = df.loc[testdex, :].drop('Survived', axis = 1)\n",
    "\n",
    "print('The train data has the following dimensions: {}'.format(train.shape))\n",
    "\n",
    "print('Meanwhile, the test data has the following dimensions: {}'.format(test.shape))"
   ]
  },
  {
   "cell_type": "code",
   "execution_count": 54,
   "metadata": {},
   "outputs": [
    {
     "name": "stdout",
     "output_type": "stream",
     "text": [
      "                                                    Total  Percent\n",
      "Title_Sir                                               0      0.0\n",
      "Name_Makinen, Mr. Kalle Edvard                          0      0.0\n",
      "Name_Mangan, Miss. Mary                                 0      0.0\n",
      "Name_Mamee, Mr. Hanna                                   0      0.0\n",
      "Name_Mallet, Mrs. Albert (Antoinette Magnin)            0      0.0\n",
      "Name_Mallet, Mr. Albert                                 0      0.0\n",
      "Name_Mallet, Master. Andre                              0      0.0\n",
      "Name_Malachard, Mr. Noel                                0      0.0\n",
      "Name_Maisner, Mr. Simon                                 0      0.0\n",
      "Name_Mannion, Miss. Margareth                           0      0.0\n",
      "Name_Maioni, Miss. Roberta                              0      0.0\n",
      "Name_Mahon, Mr. John                                    0      0.0\n",
      "Name_Mahon, Miss. Bridget Delia                         0      0.0\n",
      "Name_Maguire, Mr. John Edward                           0      0.0\n",
      "Name_Maenpaa, Mr. Matti Alexanteri                      0      0.0\n",
      "Name_Madsen, Mr. Fridtjof Arne                          0      0.0\n",
      "Name_Mangiavacchi, Mr. Serafino Emilio                  0      0.0\n",
      "Name_Mardirosian, Mr. Sarkis                            0      0.0\n",
      "Name_Madigan, Miss. Margaret \"Maggie\"                   0      0.0\n",
      "Name_Maybery, Mr. Frank Hubert                          0      0.0\n",
      "Name_McCoy, Miss. Agnes                                 0      0.0\n",
      "Name_McCormack, Mr. Thomas Joseph                       0      0.0\n",
      "Name_McCarthy, Mr. Timothy J                            0      0.0\n",
      "Name_McCarthy, Miss. Catherine Katie\"\"                  0      0.0\n",
      "Name_McCaffry, Mr. Thomas Francis                       0      0.0\n",
      "Name_Mayne, Mlle. Berthe Antonine (\"Mrs de Vill...      0      0.0\n",
      "Name_Matthews, Mr. William John                         0      0.0\n",
      "Name_Marechal, Mr. Pierre                               0      0.0\n",
      "Name_Matinoff, Mr. Nicola                               0      0.0\n",
      "Name_Masselmani, Mrs. Fatima                            0      0.0\n",
      "...                                                   ...      ...\n",
      "Ticket_240929                                           0      0.0\n",
      "Ticket_24065                                            0      0.0\n",
      "Ticket_240276                                           0      0.0\n",
      "Ticket_240261                                           0      0.0\n",
      "Ticket_239856                                           0      0.0\n",
      "Ticket_248726                                           0      0.0\n",
      "Ticket_239855                                           0      0.0\n",
      "Ticket_239854                                           0      0.0\n",
      "Ticket_239853                                           0      0.0\n",
      "Ticket_239059                                           0      0.0\n",
      "Ticket_237798                                           0      0.0\n",
      "Ticket_237789                                           0      0.0\n",
      "Ticket_243847                                           0      0.0\n",
      "Ticket_243880                                           0      0.0\n",
      "Ticket_244252                                           0      0.0\n",
      "Ticket_244270                                           0      0.0\n",
      "Ticket_244278                                           0      0.0\n",
      "Ticket_244310                                           0      0.0\n",
      "Ticket_244346                                           0      0.0\n",
      "Ticket_244358                                           0      0.0\n",
      "Ticket_244360                                           0      0.0\n",
      "Ticket_244361                                           0      0.0\n",
      "Ticket_244367                                           0      0.0\n",
      "Ticket_244368                                           0      0.0\n",
      "Ticket_244373                                           0      0.0\n",
      "Ticket_248659                                           0      0.0\n",
      "Ticket_248698                                           0      0.0\n",
      "Ticket_248706                                           0      0.0\n",
      "Ticket_248723                                           0      0.0\n",
      "Age                                                     0      0.0\n",
      "\n",
      "[2301 rows x 2 columns]\n",
      "------------------------------\n",
      "                                                    Total  Percent\n",
      "Title_Sir                                               0      0.0\n",
      "Name_Makinen, Mr. Kalle Edvard                          0      0.0\n",
      "Name_Mangan, Miss. Mary                                 0      0.0\n",
      "Name_Mamee, Mr. Hanna                                   0      0.0\n",
      "Name_Mallet, Mrs. Albert (Antoinette Magnin)            0      0.0\n",
      "Name_Mallet, Mr. Albert                                 0      0.0\n",
      "Name_Mallet, Master. Andre                              0      0.0\n",
      "Name_Malachard, Mr. Noel                                0      0.0\n",
      "Name_Maisner, Mr. Simon                                 0      0.0\n",
      "Name_Mannion, Miss. Margareth                           0      0.0\n",
      "Name_Maioni, Miss. Roberta                              0      0.0\n",
      "Name_Mahon, Mr. John                                    0      0.0\n",
      "Name_Mahon, Miss. Bridget Delia                         0      0.0\n",
      "Name_Maguire, Mr. John Edward                           0      0.0\n",
      "Name_Maenpaa, Mr. Matti Alexanteri                      0      0.0\n",
      "Name_Madsen, Mr. Fridtjof Arne                          0      0.0\n",
      "Name_Mangiavacchi, Mr. Serafino Emilio                  0      0.0\n",
      "Name_Mardirosian, Mr. Sarkis                            0      0.0\n",
      "Name_Madigan, Miss. Margaret \"Maggie\"                   0      0.0\n",
      "Name_Maybery, Mr. Frank Hubert                          0      0.0\n",
      "Name_McCoy, Miss. Agnes                                 0      0.0\n",
      "Name_McCormack, Mr. Thomas Joseph                       0      0.0\n",
      "Name_McCarthy, Mr. Timothy J                            0      0.0\n",
      "Name_McCarthy, Miss. Catherine Katie\"\"                  0      0.0\n",
      "Name_McCaffry, Mr. Thomas Francis                       0      0.0\n",
      "Name_Mayne, Mlle. Berthe Antonine (\"Mrs de Vill...      0      0.0\n",
      "Name_Matthews, Mr. William John                         0      0.0\n",
      "Name_Marechal, Mr. Pierre                               0      0.0\n",
      "Name_Matinoff, Mr. Nicola                               0      0.0\n",
      "Name_Masselmani, Mrs. Fatima                            0      0.0\n",
      "...                                                   ...      ...\n",
      "Ticket_24160                                            0      0.0\n",
      "Ticket_240929                                           0      0.0\n",
      "Ticket_24065                                            0      0.0\n",
      "Ticket_240276                                           0      0.0\n",
      "Ticket_239865                                           0      0.0\n",
      "Ticket_248727                                           0      0.0\n",
      "Ticket_239856                                           0      0.0\n",
      "Ticket_239855                                           0      0.0\n",
      "Ticket_239854                                           0      0.0\n",
      "Ticket_239853                                           0      0.0\n",
      "Ticket_239059                                           0      0.0\n",
      "Ticket_237798                                           0      0.0\n",
      "Ticket_243880                                           0      0.0\n",
      "Ticket_244252                                           0      0.0\n",
      "Ticket_244270                                           0      0.0\n",
      "Ticket_244278                                           0      0.0\n",
      "Ticket_244310                                           0      0.0\n",
      "Ticket_244346                                           0      0.0\n",
      "Ticket_244358                                           0      0.0\n",
      "Ticket_244360                                           0      0.0\n",
      "Ticket_244361                                           0      0.0\n",
      "Ticket_244367                                           0      0.0\n",
      "Ticket_244368                                           0      0.0\n",
      "Ticket_244373                                           0      0.0\n",
      "Ticket_248659                                           0      0.0\n",
      "Ticket_248698                                           0      0.0\n",
      "Ticket_248706                                           0      0.0\n",
      "Ticket_248723                                           0      0.0\n",
      "Ticket_248726                                           0      0.0\n",
      "Age                                                     0      0.0\n",
      "\n",
      "[2300 rows x 2 columns]\n"
     ]
    }
   ],
   "source": [
    "check_NA_values(train)\n",
    "print('-'*30)\n",
    "check_NA_values(test)\n"
   ]
  },
  {
   "cell_type": "markdown",
   "metadata": {},
   "source": [
    "# Modeling"
   ]
  },
  {
   "cell_type": "code",
   "execution_count": 55,
   "metadata": {},
   "outputs": [
    {
     "name": "stdout",
     "output_type": "stream",
     "text": [
      "(891, 2301)\n",
      "(891, 2300)\n",
      "(891,)\n"
     ]
    }
   ],
   "source": [
    "# separate target (y) and data (X)\n",
    "y = train['Survived']\n",
    "X = train.drop('Survived', axis =1)\n",
    "\n",
    "# check\n",
    "print(train.shape)\n",
    "print(X.shape)\n",
    "print(y.shape)"
   ]
  },
  {
   "cell_type": "markdown",
   "metadata": {},
   "source": [
    "Cross - validation strategy:\n",
    "\n",
    "As the amount of data available is quite small, we should opt for a leave-one-out validation schema."
   ]
  },
  {
   "cell_type": "code",
   "execution_count": 56,
   "metadata": {},
   "outputs": [
    {
     "name": "stderr",
     "output_type": "stream",
     "text": [
      "[Parallel(n_jobs=1)]: Using backend SequentialBackend with 1 concurrent workers.\n"
     ]
    },
    {
     "name": "stdout",
     "output_type": "stream",
     "text": [
      "Number of cv iterations:  891\n",
      "Mean accuracy: 0.82\n"
     ]
    },
    {
     "name": "stderr",
     "output_type": "stream",
     "text": [
      "[Parallel(n_jobs=1)]: Done 891 out of 891 | elapsed:  1.3min finished\n"
     ]
    }
   ],
   "source": [
    "from sklearn.model_selection import LeaveOneOut\n",
    "from sklearn.model_selection import cross_val_score\n",
    "\n",
    "# model definition\n",
    "rf = RandomForestClassifier()\n",
    "\n",
    "# loov\n",
    "loo = LeaveOneOut()\n",
    "scores = cross_val_score(rf, X, y, cv=loo, verbose = 1)\n",
    "print(\"Number of cv iterations: \", len(scores))\n",
    "print(\"Mean accuracy: {:.2f}\".format(scores.mean()))"
   ]
  },
  {
   "cell_type": "markdown",
   "metadata": {},
   "source": [
    "This had a long run time given how small the dataset is. We can also try with the K-fold validation with 10 folds:"
   ]
  },
  {
   "cell_type": "code",
   "execution_count": 57,
   "metadata": {},
   "outputs": [
    {
     "name": "stdout",
     "output_type": "stream",
     "text": [
      "Cross-validation scores:\n",
      "[0.78888889 0.88764045 0.76404494 0.86516854 0.83146067 0.86516854\n",
      " 0.78651685 0.83146067 0.86516854 0.83146067]\n",
      "Number of cv iterations:  891\n",
      "Mean accuracy: 0.82\n"
     ]
    }
   ],
   "source": [
    "from sklearn.model_selection import KFold\n",
    "kfold = KFold(n_splits = 10)\n",
    "print(\"Cross-validation scores:\\n{}\".format(cross_val_score(rf, X, y, cv=kfold)))\n",
    "print(\"Number of cv iterations: \", len(scores))\n",
    "print(\"Mean accuracy: {:.2f}\".format(scores.mean()))"
   ]
  },
  {
   "cell_type": "markdown",
   "metadata": {},
   "source": [
    "Run time was highly reduced."
   ]
  },
  {
   "cell_type": "markdown",
   "metadata": {},
   "source": [
    "# Split the train dataset\n",
    "Split it into the train and test train (test_tr) datasets.\n"
   ]
  },
  {
   "cell_type": "code",
   "execution_count": 58,
   "metadata": {},
   "outputs": [],
   "source": [
    "X_train, X_test_tr, y_train, y_test_tr = train_test_split(\n",
    "X, y, random_state=0)"
   ]
  },
  {
   "cell_type": "markdown",
   "metadata": {},
   "source": [
    "# Grid Search using Cross Validation"
   ]
  },
  {
   "cell_type": "code",
   "execution_count": 59,
   "metadata": {},
   "outputs": [],
   "source": [
    "from sklearn.model_selection import GridSearchCV\n",
    "\n",
    "# define the grid\n",
    "param_grid =  {'n_estimators':[50,100,300,500,700], 'max_depth': [10,15,20,25,30], \n",
    "               'max_features': [5,10,15,20,25]}\n",
    "\n",
    "#instantiate the gridsearch class\n",
    "grid_search = GridSearchCV(rf, param_grid, cv=5)"
   ]
  },
  {
   "cell_type": "code",
   "execution_count": 60,
   "metadata": {},
   "outputs": [
    {
     "data": {
      "text/plain": [
       "GridSearchCV(cv=5, error_score='raise-deprecating',\n",
       "             estimator=RandomForestClassifier(bootstrap=True, class_weight=None,\n",
       "                                              criterion='gini', max_depth=None,\n",
       "                                              max_features='auto',\n",
       "                                              max_leaf_nodes=None,\n",
       "                                              min_impurity_decrease=0.0,\n",
       "                                              min_impurity_split=None,\n",
       "                                              min_samples_leaf=1,\n",
       "                                              min_samples_split=2,\n",
       "                                              min_weight_fraction_leaf=0.0,\n",
       "                                              n_estimators='warn', n_jobs=None,\n",
       "                                              oob_score=False,\n",
       "                                              random_state=None, verbose=0,\n",
       "                                              warm_start=False),\n",
       "             iid='warn', n_jobs=None,\n",
       "             param_grid={'max_depth': [10, 15, 20, 25, 30],\n",
       "                         'max_features': [5, 10, 15, 20, 25],\n",
       "                         'n_estimators': [50, 100, 300, 500, 700]},\n",
       "             pre_dispatch='2*n_jobs', refit=True, return_train_score=False,\n",
       "             scoring=None, verbose=0)"
      ]
     },
     "execution_count": 60,
     "metadata": {},
     "output_type": "execute_result"
    }
   ],
   "source": [
    "# fit the class to the training data\n",
    "grid_search.fit(X_train, y_train) # the most time consuming task"
   ]
  },
  {
   "cell_type": "code",
   "execution_count": 61,
   "metadata": {},
   "outputs": [
    {
     "name": "stdout",
     "output_type": "stream",
     "text": [
      "Test set score: 0.83\n",
      "------------------------------\n",
      "Best parameters: {'max_depth': 30, 'max_features': 15, 'n_estimators': 50}\n",
      "Best cross-validation score: 0.83\n",
      "------------------------------\n",
      "Best estimator:\n",
      "RandomForestClassifier(bootstrap=True, class_weight=None, criterion='gini',\n",
      "                       max_depth=30, max_features=15, max_leaf_nodes=None,\n",
      "                       min_impurity_decrease=0.0, min_impurity_split=None,\n",
      "                       min_samples_leaf=1, min_samples_split=2,\n",
      "                       min_weight_fraction_leaf=0.0, n_estimators=50,\n",
      "                       n_jobs=None, oob_score=False, random_state=None,\n",
      "                       verbose=0, warm_start=False)\n"
     ]
    }
   ],
   "source": [
    "print(\"Test set score: {:.2f}\".format(grid_search.score(X_test_tr, y_test_tr)))\n",
    "print('-'*30)\n",
    "print(\"Best parameters: {}\".format(grid_search.best_params_))\n",
    "print(\"Best cross-validation score: {:.2f}\".format(grid_search.best_score_))\n",
    "print('-'*30)\n",
    "print(\"Best estimator:\\n{}\".format(grid_search.best_estimator_))"
   ]
  },
  {
   "cell_type": "code",
   "execution_count": 62,
   "metadata": {},
   "outputs": [
    {
     "data": {
      "text/plain": [
       "RandomForestClassifier(bootstrap=True, class_weight=None, criterion='gini',\n",
       "                       max_depth=30, max_features=15, max_leaf_nodes=None,\n",
       "                       min_impurity_decrease=0.0, min_impurity_split=None,\n",
       "                       min_samples_leaf=1, min_samples_split=2,\n",
       "                       min_weight_fraction_leaf=0.0, n_estimators=50,\n",
       "                       n_jobs=None, oob_score=False, random_state=None,\n",
       "                       verbose=0, warm_start=False)"
      ]
     },
     "execution_count": 62,
     "metadata": {},
     "output_type": "execute_result"
    }
   ],
   "source": [
    "best_rf = grid_search.best_estimator_ # store the best model\n",
    "best_rf.fit(X, y) # fit it to the entire competition train set"
   ]
  },
  {
   "cell_type": "code",
   "execution_count": 63,
   "metadata": {},
   "outputs": [],
   "source": [
    "sample_submission = pd.DataFrame({\n",
    "    'PassengerId': test.index,\n",
    "    'Survived': best_rf.predict(test)\n",
    "})\n",
    "sample_submission.to_csv('gridsearch_tuned_RF.csv', index=False)"
   ]
  },
  {
   "cell_type": "markdown",
   "metadata": {},
   "source": [
    "# XGBoost"
   ]
  },
  {
   "cell_type": "code",
   "execution_count": 64,
   "metadata": {},
   "outputs": [],
   "source": [
    "import xgboost as xgb\n",
    "from sklearn.model_selection import RandomizedSearchCV\n",
    "\n",
    "xgb_clf = xgb.XGBClassifier(missing=-999)\n",
    "\n",
    "# Create a dictionary of hyperparameters to search\n",
    "param_grid = {'n_estimators':[100,200,300], 'max_depth': [5,10,15], \n",
    "        'learning_rate': [0.02,0.04,0.06]}\n",
    "\n",
    "#instantiate the gridsearch class\n",
    "rnd_search_cv = RandomizedSearchCV(xgb_clf, param_grid, n_iter=10, cv=5)\n",
    "\n"
   ]
  },
  {
   "cell_type": "code",
   "execution_count": 65,
   "metadata": {},
   "outputs": [
    {
     "data": {
      "text/plain": [
       "RandomizedSearchCV(cv=5, error_score='raise-deprecating',\n",
       "                   estimator=XGBClassifier(base_score=0.5, booster='gbtree',\n",
       "                                           colsample_bylevel=1,\n",
       "                                           colsample_bynode=1,\n",
       "                                           colsample_bytree=1, gamma=0,\n",
       "                                           learning_rate=0.1, max_delta_step=0,\n",
       "                                           max_depth=3, min_child_weight=1,\n",
       "                                           missing=-999, n_estimators=100,\n",
       "                                           n_jobs=1, nthread=None,\n",
       "                                           objective='binary:logistic',\n",
       "                                           random_state=0, reg_alpha=0,\n",
       "                                           reg_lambda=1, scale_pos_weight=1,\n",
       "                                           seed=None, silent=None, subsample=1,\n",
       "                                           verbosity=1),\n",
       "                   iid='warn', n_iter=10, n_jobs=None,\n",
       "                   param_distributions={'learning_rate': [0.02, 0.04, 0.06],\n",
       "                                        'max_depth': [5, 10, 15],\n",
       "                                        'n_estimators': [100, 200, 300]},\n",
       "                   pre_dispatch='2*n_jobs', random_state=None, refit=True,\n",
       "                   return_train_score=False, scoring=None, verbose=0)"
      ]
     },
     "execution_count": 65,
     "metadata": {},
     "output_type": "execute_result"
    }
   ],
   "source": [
    "# fit the class to the training data\n",
    "rnd_search_cv.fit(X_train, y_train) # the most time consuming task"
   ]
  },
  {
   "cell_type": "code",
   "execution_count": 66,
   "metadata": {},
   "outputs": [
    {
     "name": "stdout",
     "output_type": "stream",
     "text": [
      "Test set score: 0.83\n",
      "------------------------------\n",
      "Best parameters: {'n_estimators': 300, 'max_depth': 5, 'learning_rate': 0.02}\n",
      "Best cross-validation score: 0.83\n",
      "------------------------------\n",
      "Best estimator:\n",
      "XGBClassifier(base_score=0.5, booster='gbtree', colsample_bylevel=1,\n",
      "              colsample_bynode=1, colsample_bytree=1, gamma=0,\n",
      "              learning_rate=0.02, max_delta_step=0, max_depth=5,\n",
      "              min_child_weight=1, missing=-999, n_estimators=300, n_jobs=1,\n",
      "              nthread=None, objective='binary:logistic', random_state=0,\n",
      "              reg_alpha=0, reg_lambda=1, scale_pos_weight=1, seed=None,\n",
      "              silent=None, subsample=1, verbosity=1)\n"
     ]
    }
   ],
   "source": [
    "print(\"Test set score: {:.2f}\".format(rnd_search_cv.score(X_test_tr, y_test_tr)))\n",
    "print('-'*30)\n",
    "print(\"Best parameters: {}\".format(rnd_search_cv.best_params_))\n",
    "print(\"Best cross-validation score: {:.2f}\".format(rnd_search_cv.best_score_))\n",
    "print('-'*30)\n",
    "print(\"Best estimator:\\n{}\".format(rnd_search_cv.best_estimator_))"
   ]
  },
  {
   "cell_type": "code",
   "execution_count": 67,
   "metadata": {},
   "outputs": [
    {
     "data": {
      "text/plain": [
       "XGBClassifier(base_score=0.5, booster='gbtree', colsample_bylevel=1,\n",
       "              colsample_bynode=1, colsample_bytree=1, gamma=0,\n",
       "              learning_rate=0.02, max_delta_step=0, max_depth=5,\n",
       "              min_child_weight=1, missing=-999, n_estimators=300, n_jobs=1,\n",
       "              nthread=None, objective='binary:logistic', random_state=0,\n",
       "              reg_alpha=0, reg_lambda=1, scale_pos_weight=1, seed=None,\n",
       "              silent=None, subsample=1, verbosity=1)"
      ]
     },
     "execution_count": 67,
     "metadata": {},
     "output_type": "execute_result"
    }
   ],
   "source": [
    "best_xgb = rnd_search_cv.best_estimator_ # store the best model\n",
    "best_xgb.fit(X, y) # fit it to the entire competition train set"
   ]
  },
  {
   "cell_type": "code",
   "execution_count": 68,
   "metadata": {},
   "outputs": [],
   "source": [
    "sample_submission = pd.DataFrame({\n",
    "    'PassengerId': test.index,\n",
    "    'Survived': best_xgb.predict(test)\n",
    "})\n",
    "sample_submission.to_csv('randomizedsearch_tuned_xgb.csv', index=False)"
   ]
  },
  {
   "cell_type": "code",
   "execution_count": 69,
   "metadata": {},
   "outputs": [
    {
     "ename": "NameError",
     "evalue": "name 'best_RF' is not defined",
     "output_type": "error",
     "traceback": [
      "\u001b[0;31m---------------------------------------------------------------------------\u001b[0m",
      "\u001b[0;31mNameError\u001b[0m                                 Traceback (most recent call last)",
      "\u001b[0;32m<ipython-input-69-f392be7157c7>\u001b[0m in \u001b[0;36m<module>\u001b[0;34m\u001b[0m\n\u001b[1;32m      1\u001b[0m \u001b[0;32mfrom\u001b[0m \u001b[0msklearn\u001b[0m\u001b[0;34m.\u001b[0m\u001b[0mensemble\u001b[0m \u001b[0;32mimport\u001b[0m \u001b[0mVotingClassifier\u001b[0m\u001b[0;34m\u001b[0m\u001b[0m\n\u001b[0;32m----> 2\u001b[0;31m blend = VotingClassifier(estimators=[('tunedRF', best_RF), \n\u001b[0m\u001b[1;32m      3\u001b[0m                                      ('tunedXGB', best_xgb)], \n\u001b[1;32m      4\u001b[0m                          voting='hard')\n\u001b[1;32m      5\u001b[0m \u001b[0;34m\u001b[0m\u001b[0m\n",
      "\u001b[0;31mNameError\u001b[0m: name 'best_RF' is not defined"
     ]
    }
   ],
   "source": [
    "from sklearn.ensemble import VotingClassifier\n",
    "blend = VotingClassifier(estimators=[('tunedRF', best_RF), \n",
    "                                     ('tunedXGB', best_xgb)], \n",
    "                         voting='hard')\n",
    "\n",
    "\n",
    "# scores = cross_val_score(blend, X_train, y_train, cv=kfold)\n",
    "# scores_mean = scores.mean()\n",
    "# scores_std = scores.std()\n",
    "# print(\"Cross-validation scores for VotingClf:\\n{} +/- {}.\".format(scores_mean, scores_std))\n",
    "\n",
    "blend.fit(X_train,y_train)\n",
    "\n",
    "print(\"Accuracy on validation set {}\".format(accuracy_score(y_test_tr, clf.predict(X_test_tr))))"
   ]
  },
  {
   "cell_type": "code",
   "execution_count": 70,
   "metadata": {},
   "outputs": [
    {
     "ename": "NameError",
     "evalue": "name 'blend' is not defined",
     "output_type": "error",
     "traceback": [
      "\u001b[0;31m---------------------------------------------------------------------------\u001b[0m",
      "\u001b[0;31mNameError\u001b[0m                                 Traceback (most recent call last)",
      "\u001b[0;32m<ipython-input-70-8b3a2e1e2019>\u001b[0m in \u001b[0;36m<module>\u001b[0;34m\u001b[0m\n\u001b[1;32m      1\u001b[0m sample_submission = pd.DataFrame({\n\u001b[1;32m      2\u001b[0m     \u001b[0;34m'PassengerId'\u001b[0m\u001b[0;34m:\u001b[0m \u001b[0mtest\u001b[0m\u001b[0;34m.\u001b[0m\u001b[0mindex\u001b[0m\u001b[0;34m,\u001b[0m\u001b[0;34m\u001b[0m\u001b[0m\n\u001b[0;32m----> 3\u001b[0;31m     \u001b[0;34m'Survived'\u001b[0m\u001b[0;34m:\u001b[0m \u001b[0mblend\u001b[0m\u001b[0;34m.\u001b[0m\u001b[0mpredict\u001b[0m\u001b[0;34m(\u001b[0m\u001b[0mtest\u001b[0m\u001b[0;34m)\u001b[0m\u001b[0;34m\u001b[0m\u001b[0m\n\u001b[0m\u001b[1;32m      4\u001b[0m })\n\u001b[1;32m      5\u001b[0m \u001b[0msample_submission\u001b[0m\u001b[0;34m.\u001b[0m\u001b[0mto_csv\u001b[0m\u001b[0;34m(\u001b[0m\u001b[0;34m'voting.csv'\u001b[0m\u001b[0;34m,\u001b[0m \u001b[0mindex\u001b[0m\u001b[0;34m=\u001b[0m\u001b[0;32mFalse\u001b[0m\u001b[0;34m)\u001b[0m\u001b[0;34m\u001b[0m\u001b[0m\n",
      "\u001b[0;31mNameError\u001b[0m: name 'blend' is not defined"
     ]
    }
   ],
   "source": [
    "sample_submission = pd.DataFrame({\n",
    "    'PassengerId': test.index,\n",
    "    'Survived': blend.predict(test)\n",
    "})\n",
    "sample_submission.to_csv('voting.csv', index=False)"
   ]
  }
 ],
 "metadata": {
  "kernelspec": {
   "display_name": "Python 3",
   "language": "python",
   "name": "python3"
  },
  "language_info": {
   "codemirror_mode": {
    "name": "ipython",
    "version": 3
   },
   "file_extension": ".py",
   "mimetype": "text/x-python",
   "name": "python",
   "nbconvert_exporter": "python",
   "pygments_lexer": "ipython3",
   "version": "3.6.6"
  }
 },
 "nbformat": 4,
 "nbformat_minor": 1
}
